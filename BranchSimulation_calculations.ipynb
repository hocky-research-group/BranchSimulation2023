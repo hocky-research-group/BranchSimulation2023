{
 "cells": [
  {
   "cell_type": "code",
   "execution_count": 18,
   "id": "f22f9fd1",
   "metadata": {},
   "outputs": [],
   "source": [
    "import numpy as np\n",
    "import matplotlib.pyplot as plt\n",
    "import seaborn as sns\n",
    "import mdtraj as md\n",
    "import sys\n",
    "import os\n",
    "import cgmap\n",
    "from glob import glob"
   ]
  },
  {
   "cell_type": "markdown",
   "id": "188a7c46",
   "metadata": {},
   "source": [
    "# Setup"
   ]
  },
  {
   "cell_type": "markdown",
   "id": "8b613794",
   "metadata": {},
   "source": [
    "### In the following cell, we import all required functions from \"mammalian.functions.py\""
   ]
  },
  {
   "cell_type": "code",
   "execution_count": 2,
   "id": "89d90aa7",
   "metadata": {},
   "outputs": [],
   "source": [
    "from mammalian_functions import *"
   ]
  },
  {
   "cell_type": "markdown",
   "id": "24b39cc1",
   "metadata": {},
   "source": [
    "### In the cell below, we load all the relevant trajectory data\n",
    "\n",
    "### 1) The branch junction trajectory, 50 frames\n",
    "\n",
    "### 2) Arp2/3+mother filament (no daughter, ATP bound state) trajectory, 50 frames\n",
    "\n",
    "### 3) Shortpitch Arp2/3 complex (ATP bound state) trajectory, 109 frames\n",
    "\n",
    "### 4) Splayed Arp2/3 complex trajectory, 104 frames\n",
    "\n",
    "### Will also load in the following PDBs\n",
    "\n",
    "### $\\cdot$ Shortpitch (Active) PDB\n",
    "\n",
    "### $\\cdot$ Splayed (Inactive) PDB"
   ]
  },
  {
   "cell_type": "markdown",
   "id": "f7bae864",
   "metadata": {},
   "source": [
    "# NOTE #\n",
    "\n",
    "### Before proceeding with the analysis, need to unzip the trajectory and topology files for the branch junction and morph trajectory. \n",
    "\n",
    "### Using the bash script \"unzip_files.sh\" provided. Execulte the following command:\n",
    "\n",
    "bash unzip_files.sh\n",
    "\n",
    "### For the branch junction this will output the following files: \"mammalian_junction_full_c27_ionized.nowater.psf\" (topology file) and mammalian_junction_full_c27_adjustRpc5_npt_restrained.stepid540000000.every100ns_50frames.nowater.xtc (trajectory file)\n",
    "\n",
    "### For the morph trajectory this will output: \"4jd2_to_branch_morph_seglabels.pdb\" "
   ]
  },
  {
   "cell_type": "code",
   "execution_count": 3,
   "id": "75bb953e",
   "metadata": {},
   "outputs": [
    {
     "name": "stderr",
     "output_type": "stream",
     "text": [
      "/home/ys3382/miniconda3/envs/py365/lib/python3.7/site-packages/mdtraj/formats/pdb/pdbfile.py:198: RuntimeWarning: divide by zero encountered in true_divide\n",
      "  particle_density = traj.top.n_atoms / traj.unitcell_volumes[0]\n",
      "/home/ys3382/miniconda3/envs/py365/lib/python3.7/site-packages/mdtraj/formats/pdb/pdbfile.py:202: UserWarning: Unlikely unit cell vectors detected in PDB file likely resulting from a dummy CRYST1 record. Discarding unit cell vectors.\n",
      "  'cell vectors.', category=UserWarning)\n"
     ]
    },
    {
     "name": "stdout",
     "output_type": "stream",
     "text": [
      "CPU times: user 24.9 s, sys: 588 ms, total: 25.5 s\n",
      "Wall time: 25.5 s\n"
     ]
    }
   ],
   "source": [
    "%%time\n",
    "# Inactive pdb #\n",
    "topfile=\"BtArp23_splay/BtArp23_splay_seglabel.pdb\"\n",
    "coordfile=\"\"\n",
    "inactive_pdb, inactive_pdb_label=load_trj(topfile,coordfile)\n",
    "\n",
    "# Active pdb #\n",
    "topfile=\"7TPT/7TPT_seglabel.pdb\"\n",
    "coordfile=\"\"\n",
    "active_pdb, active_pdb_label=load_trj(topfile,coordfile)\n",
    "\n",
    "# morph #\n",
    "topfile=\"morph/4jd2_to_branch_morph_seglabels.pdb\"\n",
    "coordfile=\"\"\n",
    "morph, morph_label = load_trj(topfile,coordfile)\n",
    "\n",
    "# full junction #\n",
    "topfile=\"full_junction/mammalian_junction_full_c27_ionized.nowater.psf\"\n",
    "coordfile=\"full_junction/mammalian_junction_full_c27_adjustRpc5_npt_restrained.stepid540000000.every100ns_50frames.nowater.xtc\"\n",
    "full, full_label = load_trj(topfile,coordfile)\n",
    "\n",
    "# no daughter #\n",
    "topfile=\"no_daughter/mammalian_junction_nodaughter_ATP_c27_ionized.nowater.psf\"\n",
    "coordfile=\"no_daughter/mammalian_junction_nodaughter_ATP_c27_npt_restrained.stepid500000000.every100ns_50frames.nowater.xtc\"\n",
    "nodaughter, nodaughter_label = load_trj(topfile,coordfile)\n",
    "\n",
    "# complex alone #\n",
    "topfile=\"just_complex/mammalian_junction_justcomplex_ATP_c27_ionized_shift.nowater.psf\"\n",
    "coordfile=\"just_complex/mammalian_junction_justcomplex_ATP_c27_npt.stepid540000000.every100ns.nowater.xtc\"\n",
    "justcomplex, justcomplex_label = load_trj(topfile,coordfile)\n",
    "\n",
    "# complex alone #\n",
    "topfile=\"splayed/mammalian_justcomplex_splayed_ATP_c27_ionized_shift.nowater.psf\"\n",
    "coordfile=\"splayed/mammalian_justcomplex_splayed_ATP_c27_ionized.stepid525500000.every100ns.nowater.xtc\"\n",
    "splayed, splayed_label = load_trj(topfile,coordfile)\n"
   ]
  },
  {
   "cell_type": "markdown",
   "id": "7a9e2c0f",
   "metadata": {},
   "source": [
    "# Coarse-grained Quantities"
   ]
  },
  {
   "cell_type": "markdown",
   "id": "2a2a9064",
   "metadata": {},
   "source": [
    "### Run the calculation on the morph trajectory"
   ]
  },
  {
   "cell_type": "code",
   "execution_count": 4,
   "id": "82a2c3fa",
   "metadata": {},
   "outputs": [
    {
     "name": "stdout",
     "output_type": "stream",
     "text": [
      "morph/4jd2_to_branch_morph_seglabels.cg_quantities.txt\n"
     ]
    }
   ],
   "source": [
    "trj=morph\n",
    "prefix=morph_label\n",
    "# This step does the calculation\n",
    "x1, x2, x3, x4 = get_angle_dist_arp23(trj)\n",
    "x5 = get_com_dist_arp23(trj)\n",
    "\n",
    "# this step writes the output\n",
    "outfile=prefix+\".cg_quantities.txt\"\n",
    "print(outfile) # this shows where the output was written\n",
    "np.savetxt(outfile,np.array((x1,x2,x3,x4,x5)))"
   ]
  },
  {
   "cell_type": "markdown",
   "id": "4539f775",
   "metadata": {},
   "source": [
    "### For all others"
   ]
  },
  {
   "cell_type": "code",
   "execution_count": 5,
   "id": "ca83ebf3",
   "metadata": {},
   "outputs": [
    {
     "name": "stdout",
     "output_type": "stream",
     "text": [
      "BtArp23_splay/BtArp23_splay_seglabel.cg_quantities.txt\n",
      "7TPT/7TPT_seglabel.cg_quantities.txt\n",
      "full_junction/mammalian_junction_full_c27_adjustRpc5_npt_restrained.stepid540000000.every100ns_50frames.nowater.cg_quantities.txt\n",
      "no_daughter/mammalian_junction_nodaughter_ATP_c27_npt_restrained.stepid500000000.every100ns_50frames.nowater.cg_quantities.txt\n",
      "just_complex/mammalian_junction_justcomplex_ATP_c27_npt.stepid540000000.every100ns.nowater.cg_quantities.txt\n",
      "splayed/mammalian_justcomplex_splayed_ATP_c27_ionized.stepid525500000.every100ns.nowater.cg_quantities.txt\n",
      "CPU times: user 34.9 s, sys: 4.07 ms, total: 34.9 s\n",
      "Wall time: 34.9 s\n"
     ]
    }
   ],
   "source": [
    "%%time\n",
    "\n",
    "trj=inactive_pdb\n",
    "prefix=inactive_pdb_label\n",
    "# This step does the calculation\n",
    "x1, x2, x3, x4 = get_angle_dist_arp23(trj)\n",
    "x5 = get_com_dist_arp23(trj)\n",
    "\n",
    "# this step writes the output\n",
    "outfile=prefix+\".cg_quantities.txt\"\n",
    "print(outfile) # this shows where the output was written\n",
    "np.savetxt(outfile,np.array((x1,x2,x3,x4,x5)))\n",
    "\n",
    "trj=active_pdb\n",
    "prefix=active_pdb_label\n",
    "# This step does the calculation\n",
    "x1, x2, x3, x4 = get_angle_dist_arp23(trj)\n",
    "x5 = get_com_dist_arp23(trj)\n",
    "\n",
    "# this step writes the output\n",
    "outfile=prefix+\".cg_quantities.txt\"\n",
    "print(outfile) # this shows where the output was written\n",
    "np.savetxt(outfile,np.array((x1,x2,x3,x4,x5)))\n",
    "\n",
    "trj=full\n",
    "prefix=full_label\n",
    "# This step does the calculation\n",
    "x1, x2, x3, x4 = get_angle_dist_arp23(trj)\n",
    "x5 = get_com_dist_arp23(trj)\n",
    "\n",
    "# this step writes the output\n",
    "outfile=prefix+\".cg_quantities.txt\"\n",
    "print(outfile) # this shows where the output was written\n",
    "np.savetxt(outfile,np.array((x1,x2,x3,x4,x5)))\n",
    "\n",
    "trj=nodaughter\n",
    "prefix=nodaughter_label\n",
    "# This step does the calculation\n",
    "x1, x2, x3, x4 = get_angle_dist_arp23(trj)\n",
    "x5 = get_com_dist_arp23(trj)\n",
    "\n",
    "# this step writes the output\n",
    "outfile=prefix+\".cg_quantities.txt\"\n",
    "print(outfile) # this shows where the output was written\n",
    "np.savetxt(outfile,np.array((x1,x2,x3,x4,x5)))\n",
    "\n",
    "trj=justcomplex\n",
    "prefix=justcomplex_label\n",
    "# This step does the calculation\n",
    "x1, x2, x3, x4 = get_angle_dist_arp23(trj)\n",
    "x5 = get_com_dist_arp23(trj)\n",
    "\n",
    "# this step writes the output\n",
    "outfile=prefix+\".cg_quantities.txt\"\n",
    "print(outfile) # this shows where the output was written\n",
    "np.savetxt(outfile,np.array((x1,x2,x3,x4,x5)))\n",
    "\n",
    "trj=splayed\n",
    "prefix=splayed_label\n",
    "# This step does the calculation\n",
    "x1, x2, x3, x4 = get_angle_dist_arp23(trj)\n",
    "x5 = get_com_dist_arp23(trj)\n",
    "\n",
    "# this step writes the output\n",
    "outfile=prefix+\".cg_quantities.txt\"\n",
    "print(outfile) # this shows where the output was written\n",
    "np.savetxt(outfile,np.array((x1,x2,x3,x4,x5)))"
   ]
  },
  {
   "cell_type": "markdown",
   "id": "69bf94be",
   "metadata": {},
   "source": [
    "# Key Distances"
   ]
  },
  {
   "cell_type": "markdown",
   "id": "29160aad",
   "metadata": {},
   "source": [
    "## Twisting/Flattening"
   ]
  },
  {
   "cell_type": "markdown",
   "id": "e6757243",
   "metadata": {},
   "source": [
    "### For the morph"
   ]
  },
  {
   "cell_type": "code",
   "execution_count": 6,
   "id": "460466bf",
   "metadata": {},
   "outputs": [
    {
     "name": "stdout",
     "output_type": "stream",
     "text": [
      "morph/4jd2_to_branch_morph_seglabels.Twisting_Flattening.txt\n"
     ]
    }
   ],
   "source": [
    "trj=morph\n",
    "prefix=morph_label\n",
    "# This step does the calculation\n",
    "x1, x2, x3, x4 = other_distances(trj)\n",
    "\n",
    "# this step writes the output\n",
    "outfile=prefix+\".Twisting_Flattening.txt\"\n",
    "print(outfile) # this shows where the output was written\n",
    "np.savetxt(outfile,np.array((x1,x2,x3,x4)))"
   ]
  },
  {
   "cell_type": "markdown",
   "id": "1e195b6d",
   "metadata": {},
   "source": [
    "### For all others"
   ]
  },
  {
   "cell_type": "code",
   "execution_count": 7,
   "id": "51946be2",
   "metadata": {},
   "outputs": [
    {
     "name": "stdout",
     "output_type": "stream",
     "text": [
      "BtArp23_splay/BtArp23_splay_seglabel.Twisting_Flattening.txt\n",
      "7TPT/7TPT_seglabel.Twisting_Flattening.txt\n",
      "full_junction/mammalian_junction_full_c27_adjustRpc5_npt_restrained.stepid540000000.every100ns_50frames.nowater.Twisting_Flattening.txt\n",
      "no_daughter/mammalian_junction_nodaughter_ATP_c27_npt_restrained.stepid500000000.every100ns_50frames.nowater.Twisting_Flattening.txt\n",
      "just_complex/mammalian_junction_justcomplex_ATP_c27_npt.stepid540000000.every100ns.nowater.Twisting_Flattening.txt\n",
      "splayed/mammalian_justcomplex_splayed_ATP_c27_ionized.stepid525500000.every100ns.nowater.Twisting_Flattening.txt\n"
     ]
    }
   ],
   "source": [
    "trj=inactive_pdb\n",
    "prefix=inactive_pdb_label\n",
    "# This step does the calculation\n",
    "x1, x2, x3, x4 = other_distances(trj)\n",
    "\n",
    "# this step writes the output\n",
    "outfile=prefix+\".Twisting_Flattening.txt\"\n",
    "print(outfile) # this shows where the output was written\n",
    "np.savetxt(outfile,np.array((x1,x2,x3,x4)))\n",
    "\n",
    "trj=active_pdb\n",
    "prefix=active_pdb_label\n",
    "# This step does the calculation\n",
    "x1, x2, x3, x4 = other_distances(trj)\n",
    "\n",
    "# this step writes the output\n",
    "outfile=prefix+\".Twisting_Flattening.txt\"\n",
    "print(outfile) # this shows where the output was written\n",
    "np.savetxt(outfile,np.array((x1,x2,x3,x4)))\n",
    "\n",
    "trj=full\n",
    "prefix=full_label\n",
    "# This step does the calculation\n",
    "x1, x2, x3, x4 = other_distances(trj)\n",
    "\n",
    "# this step writes the output\n",
    "outfile=prefix+\".Twisting_Flattening.txt\"\n",
    "print(outfile) # this shows where the output was written\n",
    "np.savetxt(outfile,np.array((x1,x2,x3,x4)))\n",
    "\n",
    "trj=nodaughter\n",
    "prefix=nodaughter_label\n",
    "# This step does the calculation\n",
    "x1, x2, x3, x4 = other_distances(trj)\n",
    "\n",
    "# this step writes the output\n",
    "outfile=prefix+\".Twisting_Flattening.txt\"\n",
    "print(outfile) # this shows where the output was written\n",
    "np.savetxt(outfile,np.array((x1,x2,x3,x4)))\n",
    "\n",
    "trj=justcomplex\n",
    "prefix=justcomplex_label\n",
    "# This step does the calculation\n",
    "x1, x2, x3, x4 = other_distances(trj)\n",
    "\n",
    "# this step writes the output\n",
    "outfile=prefix+\".Twisting_Flattening.txt\"\n",
    "print(outfile) # this shows where the output was written\n",
    "np.savetxt(outfile,np.array((x1,x2,x3,x4)))\n",
    "\n",
    "trj=splayed\n",
    "prefix=splayed_label\n",
    "# This step does the calculation\n",
    "x1, x2, x3, x4 = other_distances(trj)\n",
    "\n",
    "# this step writes the output\n",
    "outfile=prefix+\".Twisting_Flattening.txt\"\n",
    "print(outfile) # this shows where the output was written\n",
    "np.savetxt(outfile,np.array((x1,x2,x3,x4)))\n"
   ]
  },
  {
   "cell_type": "markdown",
   "id": "34f15127",
   "metadata": {},
   "source": [
    "## Clamp Twisting"
   ]
  },
  {
   "cell_type": "markdown",
   "id": "c760b15f",
   "metadata": {},
   "source": [
    "### For the morph"
   ]
  },
  {
   "cell_type": "code",
   "execution_count": 8,
   "id": "93c04498",
   "metadata": {},
   "outputs": [
    {
     "name": "stdout",
     "output_type": "stream",
     "text": [
      "morph/4jd2_to_branch_morph_seglabels.clamp_twist.txt\n"
     ]
    }
   ],
   "source": [
    "trj=morph\n",
    "prefix=morph_label\n",
    "# This step does the calculation\n",
    "x1 = clamp_twist(trj)\n",
    "\n",
    "# this step writes the output\n",
    "outfile=prefix+\".clamp_twist.txt\"\n",
    "print(outfile) # this shows where the output was written\n",
    "np.savetxt(outfile,np.array((x1)))"
   ]
  },
  {
   "cell_type": "markdown",
   "id": "cb339ea5",
   "metadata": {},
   "source": [
    "### For all others"
   ]
  },
  {
   "cell_type": "code",
   "execution_count": 9,
   "id": "68989674",
   "metadata": {},
   "outputs": [
    {
     "name": "stdout",
     "output_type": "stream",
     "text": [
      "BtArp23_splay/BtArp23_splay_seglabel.clamp_twist.txt\n",
      "7TPT/7TPT_seglabel.clamp_twist.txt\n",
      "full_junction/mammalian_junction_full_c27_adjustRpc5_npt_restrained.stepid540000000.every100ns_50frames.nowater.clamp_twist.txt\n",
      "no_daughter/mammalian_junction_nodaughter_ATP_c27_npt_restrained.stepid500000000.every100ns_50frames.nowater.clamp_twist.txt\n",
      "just_complex/mammalian_junction_justcomplex_ATP_c27_npt.stepid540000000.every100ns.nowater.clamp_twist.txt\n",
      "splayed/mammalian_justcomplex_splayed_ATP_c27_ionized.stepid525500000.every100ns.nowater.clamp_twist.txt\n"
     ]
    }
   ],
   "source": [
    "trj=inactive_pdb\n",
    "prefix=inactive_pdb_label\n",
    "# This step does the calculation\n",
    "x1 = clamp_twist(trj)\n",
    "\n",
    "# this step writes the output\n",
    "outfile=prefix+\".clamp_twist.txt\"\n",
    "print(outfile) # this shows where the output was written\n",
    "np.savetxt(outfile,np.array((x1)))\n",
    "\n",
    "trj=active_pdb\n",
    "prefix=active_pdb_label\n",
    "# This step does the calculation\n",
    "x1 = clamp_twist(trj)\n",
    "\n",
    "# this step writes the output\n",
    "outfile=prefix+\".clamp_twist.txt\"\n",
    "print(outfile) # this shows where the output was written\n",
    "np.savetxt(outfile,np.array((x1)))\n",
    "\n",
    "trj=full\n",
    "prefix=full_label\n",
    "# This step does the calculation\n",
    "x1 = clamp_twist(trj)\n",
    "\n",
    "# this step writes the output\n",
    "outfile=prefix+\".clamp_twist.txt\"\n",
    "print(outfile) # this shows where the output was written\n",
    "np.savetxt(outfile,np.array((x1)))\n",
    "\n",
    "trj=nodaughter\n",
    "prefix=nodaughter_label\n",
    "# This step does the calculation\n",
    "x1 = clamp_twist(trj)\n",
    "\n",
    "# this step writes the output\n",
    "outfile=prefix+\".clamp_twist.txt\"\n",
    "print(outfile) # this shows where the output was written\n",
    "np.savetxt(outfile,np.array((x1)))\n",
    "\n",
    "trj=justcomplex\n",
    "prefix=justcomplex_label\n",
    "# This step does the calculation\n",
    "x1 = clamp_twist(trj)\n",
    "\n",
    "# this step writes the output\n",
    "outfile=prefix+\".clamp_twist.txt\"\n",
    "print(outfile) # this shows where the output was written\n",
    "np.savetxt(outfile,np.array((x1)))\n",
    "\n",
    "trj=splayed\n",
    "prefix=splayed_label\n",
    "# This step does the calculation\n",
    "x1 = clamp_twist(trj)\n",
    "\n",
    "# this step writes the output\n",
    "outfile=prefix+\".clamp_twist.txt\"\n",
    "print(outfile) # this shows where the output was written\n",
    "np.savetxt(outfile,np.array((x1)))"
   ]
  },
  {
   "cell_type": "markdown",
   "id": "ee430562",
   "metadata": {},
   "source": [
    "## Helix Bending"
   ]
  },
  {
   "cell_type": "markdown",
   "id": "187a4072",
   "metadata": {},
   "source": [
    "### For the morph"
   ]
  },
  {
   "cell_type": "code",
   "execution_count": 10,
   "id": "76494587",
   "metadata": {},
   "outputs": [
    {
     "name": "stdout",
     "output_type": "stream",
     "text": [
      "morph/4jd2_to_branch_morph_seglabels.helix_bend.txt\n"
     ]
    }
   ],
   "source": [
    "trj=morph\n",
    "prefix=morph_label\n",
    "# This step does the calculation\n",
    "x1 = helix_bending(trj)\n",
    "\n",
    "# this step writes the output\n",
    "outfile=prefix+\".helix_bend.txt\"\n",
    "print(outfile) # this shows where the output was written\n",
    "np.savetxt(outfile,np.array((x1)))"
   ]
  },
  {
   "cell_type": "markdown",
   "id": "31ee30a3",
   "metadata": {},
   "source": [
    "### For all others"
   ]
  },
  {
   "cell_type": "code",
   "execution_count": 11,
   "id": "1f2f7404",
   "metadata": {},
   "outputs": [
    {
     "name": "stdout",
     "output_type": "stream",
     "text": [
      "BtArp23_splay/BtArp23_splay_seglabel.helix_bend.txt\n",
      "7TPT/7TPT_seglabel.helix_bend.txt\n",
      "full_junction/mammalian_junction_full_c27_adjustRpc5_npt_restrained.stepid540000000.every100ns_50frames.nowater.helix_bend.txt\n",
      "no_daughter/mammalian_junction_nodaughter_ATP_c27_npt_restrained.stepid500000000.every100ns_50frames.nowater.helix_bend.txt\n",
      "just_complex/mammalian_junction_justcomplex_ATP_c27_npt.stepid540000000.every100ns.nowater.helix_bend.txt\n",
      "splayed/mammalian_justcomplex_splayed_ATP_c27_ionized.stepid525500000.every100ns.nowater.helix_bend.txt\n"
     ]
    }
   ],
   "source": [
    "trj=inactive_pdb\n",
    "prefix=inactive_pdb_label\n",
    "# This step does the calculation\n",
    "x1 = helix_bending(trj)\n",
    "\n",
    "# this step writes the output\n",
    "outfile=prefix+\".helix_bend.txt\"\n",
    "print(outfile) # this shows where the output was written\n",
    "np.savetxt(outfile,np.array((x1)))\n",
    "\n",
    "trj=active_pdb\n",
    "prefix=active_pdb_label\n",
    "# This step does the calculation\n",
    "x1 = helix_bending(trj)\n",
    "\n",
    "# this step writes the output\n",
    "outfile=prefix+\".helix_bend.txt\"\n",
    "print(outfile) # this shows where the output was written\n",
    "np.savetxt(outfile,np.array((x1)))\n",
    "\n",
    "trj=full\n",
    "prefix=full_label\n",
    "# This step does the calculation\n",
    "x1 = helix_bending(trj)\n",
    "\n",
    "# this step writes the output\n",
    "outfile=prefix+\".helix_bend.txt\"\n",
    "print(outfile) # this shows where the output was written\n",
    "np.savetxt(outfile,np.array((x1)))\n",
    "\n",
    "trj=nodaughter\n",
    "prefix=nodaughter_label\n",
    "# This step does the calculation\n",
    "x1 = helix_bending(trj)\n",
    "\n",
    "# this step writes the output\n",
    "outfile=prefix+\".helix_bend.txt\"\n",
    "print(outfile) # this shows where the output was written\n",
    "np.savetxt(outfile,np.array((x1)))\n",
    "\n",
    "trj=justcomplex\n",
    "prefix=justcomplex_label\n",
    "# This step does the calculation\n",
    "x1 = helix_bending(trj)\n",
    "\n",
    "# this step writes the output\n",
    "outfile=prefix+\".helix_bend.txt\"\n",
    "print(outfile) # this shows where the output was written\n",
    "np.savetxt(outfile,np.array((x1)))\n",
    "\n",
    "trj=splayed\n",
    "prefix=splayed_label\n",
    "# This step does the calculation\n",
    "x1 = helix_bending(trj)\n",
    "\n",
    "# this step writes the output\n",
    "outfile=prefix+\".helix_bend.txt\"\n",
    "print(outfile) # this shows where the output was written\n",
    "np.savetxt(outfile,np.array((x1)))\n",
    "\n"
   ]
  },
  {
   "cell_type": "markdown",
   "id": "7886a0fa",
   "metadata": {},
   "source": [
    "## Movement of C-term groove"
   ]
  },
  {
   "cell_type": "markdown",
   "id": "3169d7a9",
   "metadata": {},
   "source": [
    "### For the morph"
   ]
  },
  {
   "cell_type": "code",
   "execution_count": 12,
   "id": "d957b19d",
   "metadata": {},
   "outputs": [
    {
     "name": "stdout",
     "output_type": "stream",
     "text": [
      "morph/4jd2_to_branch_morph_seglabels.c_term_groove.txt\n"
     ]
    }
   ],
   "source": [
    "# x1: d2_152_38 BEG-FB_Arp2, x2: # d3_163_409 BEG-FB_Arp3\n",
    "\n",
    "trj=morph\n",
    "prefix=morph_label\n",
    "# This step does the calculation\n",
    "x1, x2 = c_term_groove(trj)\n",
    "\n",
    "# this step writes the output\n",
    "outfile=prefix+\".c_term_groove.txt\"\n",
    "print(outfile) # this shows where the output was written\n",
    "np.savetxt(outfile,np.array((x1,x2)))"
   ]
  },
  {
   "cell_type": "markdown",
   "id": "b871c557",
   "metadata": {},
   "source": [
    "### For all others"
   ]
  },
  {
   "cell_type": "code",
   "execution_count": 13,
   "id": "fd411917",
   "metadata": {},
   "outputs": [
    {
     "name": "stdout",
     "output_type": "stream",
     "text": [
      "BtArp23_splay/BtArp23_splay_seglabel.c_term_groove.txt\n",
      "7TPT/7TPT_seglabel.c_term_groove.txt\n",
      "full_junction/mammalian_junction_full_c27_adjustRpc5_npt_restrained.stepid540000000.every100ns_50frames.nowater.c_term_groove.txt\n",
      "no_daughter/mammalian_junction_nodaughter_ATP_c27_npt_restrained.stepid500000000.every100ns_50frames.nowater.c_term_groove.txt\n",
      "just_complex/mammalian_junction_justcomplex_ATP_c27_npt.stepid540000000.every100ns.nowater.c_term_groove.txt\n",
      "splayed/mammalian_justcomplex_splayed_ATP_c27_ionized.stepid525500000.every100ns.nowater.c_term_groove.txt\n"
     ]
    }
   ],
   "source": [
    "trj=inactive_pdb\n",
    "prefix=inactive_pdb_label\n",
    "# This step does the calculation\n",
    "x1,x2 = c_term_groove(trj)\n",
    "\n",
    "# this step writes the output\n",
    "outfile=prefix+\".c_term_groove.txt\"\n",
    "print(outfile) # this shows where the output was written\n",
    "np.savetxt(outfile,np.array((x1,x2)))\n",
    "\n",
    "trj=active_pdb\n",
    "prefix=active_pdb_label\n",
    "# This step does the calculation\n",
    "x1,x2 = c_term_groove(trj)\n",
    "\n",
    "# this step writes the output\n",
    "outfile=prefix+\".c_term_groove.txt\"\n",
    "print(outfile) # this shows where the output was written\n",
    "np.savetxt(outfile,np.array((x1,x2)))\n",
    "\n",
    "trj=full\n",
    "prefix=full_label\n",
    "# This step does the calculation\n",
    "x1,x2 = c_term_groove(trj)\n",
    "\n",
    "# this step writes the output\n",
    "outfile=prefix+\".c_term_groove.txt\"\n",
    "print(outfile) # this shows where the output was written\n",
    "np.savetxt(outfile,np.array((x1,x2)))\n",
    "\n",
    "trj=nodaughter\n",
    "prefix=nodaughter_label\n",
    "# This step does the calculation\n",
    "x1,x2 = c_term_groove(trj)\n",
    "\n",
    "# this step writes the output\n",
    "outfile=prefix+\".c_term_groove.txt\"\n",
    "print(outfile) # this shows where the output was written\n",
    "np.savetxt(outfile,np.array((x1,x2)))\n",
    "\n",
    "trj=justcomplex\n",
    "prefix=justcomplex_label\n",
    "# This step does the calculation\n",
    "x1,x2 = c_term_groove(trj)\n",
    "\n",
    "# this step writes the output\n",
    "outfile=prefix+\".c_term_groove.txt\"\n",
    "print(outfile) # this shows where the output was written\n",
    "np.savetxt(outfile,np.array((x1,x2)))\n",
    "\n",
    "trj=splayed\n",
    "prefix=splayed_label\n",
    "# This step does the calculation\n",
    "x1,x2 = c_term_groove(trj)\n",
    "\n",
    "# this step writes the output\n",
    "outfile=prefix+\".c_term_groove.txt\"\n",
    "print(outfile) # this shows where the output was written\n",
    "np.savetxt(outfile,np.array((x1,x2)))\n"
   ]
  },
  {
   "cell_type": "markdown",
   "id": "ebc510fa",
   "metadata": {},
   "source": [
    "## Opening of BEG, W-loop uncurling"
   ]
  },
  {
   "cell_type": "markdown",
   "id": "41740b60",
   "metadata": {},
   "source": [
    "### For the morph"
   ]
  },
  {
   "cell_type": "code",
   "execution_count": 14,
   "id": "6aff0e36",
   "metadata": {},
   "outputs": [
    {
     "name": "stdout",
     "output_type": "stream",
     "text": [
      "morph/4jd2_to_branch_morph_seglabels.BEG_Wloop.txt\n"
     ]
    }
   ],
   "source": [
    "# x1: Arp2 d2_173_140 BEG_1 (W-loop uncurling), x2: Arp2 d2_173_371 BEG_2 (Opening of BEG), \n",
    "# x3: Arp3 d3_184_143 BEG_1 (W-loop uncurling), x4: Arp3 d3_184_393 BEG_2 (Opening of BEG)\n",
    "\n",
    "trj=morph\n",
    "prefix=morph_label\n",
    "# This step does the calculation\n",
    "x1, x2, x3, x4 = BEG_Wloop(trj)\n",
    "\n",
    "# this step writes the output\n",
    "outfile=prefix+\".BEG_Wloop.txt\"\n",
    "print(outfile) # this shows where the output was written\n",
    "np.savetxt(outfile,np.array((x1,x2,x3,x4)))"
   ]
  },
  {
   "cell_type": "code",
   "execution_count": 15,
   "id": "efeecb3a",
   "metadata": {},
   "outputs": [
    {
     "name": "stdout",
     "output_type": "stream",
     "text": [
      "BtArp23_splay/BtArp23_splay_seglabel.BEG_Wloop.txt\n",
      "7TPT/7TPT_seglabel.BEG_Wloop.txt\n",
      "full_junction/mammalian_junction_full_c27_adjustRpc5_npt_restrained.stepid540000000.every100ns_50frames.nowater.BEG_Wloop.txt\n",
      "no_daughter/mammalian_junction_nodaughter_ATP_c27_npt_restrained.stepid500000000.every100ns_50frames.nowater.BEG_Wloop.txt\n",
      "just_complex/mammalian_junction_justcomplex_ATP_c27_npt.stepid540000000.every100ns.nowater.BEG_Wloop.txt\n",
      "splayed/mammalian_justcomplex_splayed_ATP_c27_ionized.stepid525500000.every100ns.nowater.BEG_Wloop.txt\n"
     ]
    }
   ],
   "source": [
    "trj=inactive_pdb\n",
    "prefix=inactive_pdb_label\n",
    "# This step does the calculation\n",
    "x1,x2,x3,x4 = BEG_Wloop(trj)\n",
    "\n",
    "# this step writes the output\n",
    "outfile=prefix+\".BEG_Wloop.txt\"\n",
    "print(outfile) # this shows where the output was written\n",
    "np.savetxt(outfile,np.array((x1,x2,x3,x4)))\n",
    "\n",
    "trj=active_pdb\n",
    "prefix=active_pdb_label\n",
    "# This step does the calculation\n",
    "x1,x2,x3,x4 = BEG_Wloop(trj)\n",
    "\n",
    "# this step writes the output\n",
    "outfile=prefix+\".BEG_Wloop.txt\"\n",
    "print(outfile) # this shows where the output was written\n",
    "np.savetxt(outfile,np.array((x1,x2,x3,x4)))\n",
    "\n",
    "trj=full\n",
    "prefix=full_label\n",
    "# This step does the calculation\n",
    "x1,x2,x3,x4 = BEG_Wloop(trj)\n",
    "\n",
    "# this step writes the output\n",
    "outfile=prefix+\".BEG_Wloop.txt\"\n",
    "print(outfile) # this shows where the output was written\n",
    "np.savetxt(outfile,np.array((x1,x2,x3,x4)))\n",
    "\n",
    "trj=nodaughter\n",
    "prefix=nodaughter_label\n",
    "# This step does the calculation\n",
    "x1,x2,x3,x4 = BEG_Wloop(trj)\n",
    "\n",
    "# this step writes the output\n",
    "outfile=prefix+\".BEG_Wloop.txt\"\n",
    "print(outfile) # this shows where the output was written\n",
    "np.savetxt(outfile,np.array((x1,x2,x3,x4)))\n",
    "\n",
    "trj=justcomplex\n",
    "prefix=justcomplex_label\n",
    "# This step does the calculation\n",
    "x1,x2,x3,x4 = BEG_Wloop(trj)\n",
    "\n",
    "# this step writes the output\n",
    "outfile=prefix+\".BEG_Wloop.txt\"\n",
    "print(outfile) # this shows where the output was written\n",
    "np.savetxt(outfile,np.array((x1,x2,x3,x4)))\n",
    "\n",
    "trj=splayed\n",
    "prefix=splayed_label\n",
    "# This step does the calculation\n",
    "x1,x2,x3,x4 = BEG_Wloop(trj)\n",
    "\n",
    "# this step writes the output\n",
    "outfile=prefix+\".BEG_Wloop.txt\"\n",
    "print(outfile) # this shows where the output was written\n",
    "np.savetxt(outfile,np.array((x1,x2,x3,x4)))\n"
   ]
  },
  {
   "cell_type": "markdown",
   "id": "14a65a12",
   "metadata": {},
   "source": [
    "## Cleft opening/closing"
   ]
  },
  {
   "cell_type": "markdown",
   "id": "859c3a3e",
   "metadata": {},
   "source": [
    "### For the morph"
   ]
  },
  {
   "cell_type": "code",
   "execution_count": 16,
   "id": "dc4a83c7",
   "metadata": {},
   "outputs": [
    {
     "name": "stdout",
     "output_type": "stream",
     "text": [
      "morph/4jd2_to_branch_morph_seglabels.cleft_opening_closing.txt\n"
     ]
    }
   ],
   "source": [
    "# x1: d2_15_162, x2: d2_16_161, x3: d2_62_211,\n",
    "# x4: d3_14_173, x5: d3_15_172, x6: d3_67_222\n",
    "\n",
    "trj=morph\n",
    "prefix=morph_label\n",
    "# This step does the calculation\n",
    "x1, x2, x3, x4, x5, x6 = cleft_opening_closing(trj)\n",
    "\n",
    "# this step writes the output\n",
    "outfile=prefix+\".cleft_opening_closing.txt\"\n",
    "print(outfile) # this shows where the output was written\n",
    "np.savetxt(outfile,np.array((x1,x2,x3,x4,x5,x6)))"
   ]
  },
  {
   "cell_type": "code",
   "execution_count": 17,
   "id": "c87088b2",
   "metadata": {},
   "outputs": [
    {
     "name": "stdout",
     "output_type": "stream",
     "text": [
      "BtArp23_splay/BtArp23_splay_seglabel.cleft_opening_closing.txt\n",
      "7TPT/7TPT_seglabel.cleft_opening_closing.txt\n",
      "full_junction/mammalian_junction_full_c27_adjustRpc5_npt_restrained.stepid540000000.every100ns_50frames.nowater.cleft_opening_closing.txt\n",
      "no_daughter/mammalian_junction_nodaughter_ATP_c27_npt_restrained.stepid500000000.every100ns_50frames.nowater.cleft_opening_closing.txt\n",
      "just_complex/mammalian_junction_justcomplex_ATP_c27_npt.stepid540000000.every100ns.nowater.cleft_opening_closing.txt\n",
      "splayed/mammalian_justcomplex_splayed_ATP_c27_ionized.stepid525500000.every100ns.nowater.cleft_opening_closing.txt\n"
     ]
    }
   ],
   "source": [
    "trj=inactive_pdb\n",
    "prefix=inactive_pdb_label\n",
    "# This step does the calculation\n",
    "x1,x2,x3,x4,x5,x6 = cleft_opening_closing(trj)\n",
    "\n",
    "# this step writes the output\n",
    "outfile=prefix+\".cleft_opening_closing.txt\"\n",
    "print(outfile) # this shows where the output was written\n",
    "np.savetxt(outfile,np.array((x1,x2,x3,x4,x5,x6)))\n",
    "\n",
    "trj=active_pdb\n",
    "prefix=active_pdb_label\n",
    "# This step does the calculation\n",
    "x1,x2,x3,x4,x5,x6 = cleft_opening_closing(trj)\n",
    "\n",
    "# this step writes the output\n",
    "outfile=prefix+\".cleft_opening_closing.txt\"\n",
    "print(outfile) # this shows where the output was written\n",
    "np.savetxt(outfile,np.array((x1,x2,x3,x4,x5,x6)))\n",
    "\n",
    "trj=full\n",
    "prefix=full_label\n",
    "# This step does the calculation\n",
    "x1,x2,x3,x4,x5,x6 = cleft_opening_closing(trj)\n",
    "\n",
    "# this step writes the output\n",
    "outfile=prefix+\".cleft_opening_closing.txt\"\n",
    "print(outfile) # this shows where the output was written\n",
    "np.savetxt(outfile,np.array((x1,x2,x3,x4,x5,x6)))\n",
    "\n",
    "trj=nodaughter\n",
    "prefix=nodaughter_label\n",
    "# This step does the calculation\n",
    "x1,x2,x3,x4,x5,x6 = cleft_opening_closing(trj)\n",
    "\n",
    "# this step writes the output\n",
    "outfile=prefix+\".cleft_opening_closing.txt\"\n",
    "print(outfile) # this shows where the output was written\n",
    "np.savetxt(outfile,np.array((x1,x2,x3,x4,x5,x6)))\n",
    "\n",
    "trj=justcomplex\n",
    "prefix=justcomplex_label\n",
    "# This step does the calculation\n",
    "x1,x2,x3,x4,x5,x6 = cleft_opening_closing(trj)\n",
    "\n",
    "# this step writes the output\n",
    "outfile=prefix+\".cleft_opening_closing.txt\"\n",
    "print(outfile) # this shows where the output was written\n",
    "np.savetxt(outfile,np.array((x1,x2,x3,x4,x5,x6)))\n",
    "\n",
    "trj=splayed\n",
    "prefix=splayed_label\n",
    "# This step does the calculation\n",
    "x1,x2,x3,x4,x5,x6 = cleft_opening_closing(trj)\n",
    "\n",
    "# this step writes the output\n",
    "outfile=prefix+\".cleft_opening_closing.txt\"\n",
    "print(outfile) # this shows where the output was written\n",
    "np.savetxt(outfile,np.array((x1,x2,x3,x4,x5,x6)))\n"
   ]
  }
 ],
 "metadata": {
  "kernelspec": {
   "display_name": "Python 3 (ipykernel)",
   "language": "python",
   "name": "python3"
  },
  "language_info": {
   "codemirror_mode": {
    "name": "ipython",
    "version": 3
   },
   "file_extension": ".py",
   "mimetype": "text/x-python",
   "name": "python",
   "nbconvert_exporter": "python",
   "pygments_lexer": "ipython3",
   "version": "3.7.12"
  }
 },
 "nbformat": 4,
 "nbformat_minor": 5
}
